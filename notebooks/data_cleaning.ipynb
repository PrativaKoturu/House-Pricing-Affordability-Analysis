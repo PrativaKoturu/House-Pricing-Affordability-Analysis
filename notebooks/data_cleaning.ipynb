{
 "cells": [
  {
   "cell_type": "code",
   "execution_count": null,
   "id": "1cee6fa5-6cac-4bb0-be16-a26050f0285b",
   "metadata": {},
   "outputs": [],
   "source": [
    "import pandas as pd\n",
    "import os\n",
    "\n",
    "# Load the dataset\n",
    "data_file_path = os.path.join('..', 'data', 'house_prices_data.csv')\n",
    "df = pd.read_csv(data_file_path)\n",
    "\n",
    "# Check for missing values\n",
    "print(df.isnull().sum())\n",
    "\n",
    "# Fill missing values or drop rows as appropriate\n",
    "df.fillna(df.mean(), inplace=True)\n",
    "\n",
    "# Remove outliers (example: for 'price' column)\n",
    "q1 = df['price'].quantile(0.25)\n",
    "q3 = df['price'].quantile(0.75)\n",
    "iqr = q3 - q1\n",
    "df = df[(df['price'] >= q1 - 1.5 * iqr) & (df['price'] <= q3 + 1.5 * iqr)]\n",
    "\n",
    "# Save the cleaned data to a new CSV file\n",
    "df.to_csv(os.path.join('..', 'data', 'cleaned_house_prices_data.csv'), index=False)\n",
    "\n",
    "print(\"Data cleaning complete.\")\n"
   ]
  },
  {
   "cell_type": "code",
   "execution_count": null,
   "id": "2ad9c09b-0cc9-4245-9ea6-c772f0349e71",
   "metadata": {},
   "outputs": [],
   "source": []
  }
 ],
 "metadata": {
  "kernelspec": {
   "display_name": "Python 3 (ipykernel)",
   "language": "python",
   "name": "python3"
  },
  "language_info": {
   "codemirror_mode": {
    "name": "ipython",
    "version": 3
   },
   "file_extension": ".py",
   "mimetype": "text/x-python",
   "name": "python",
   "nbconvert_exporter": "python",
   "pygments_lexer": "ipython3",
   "version": "3.12.4"
  }
 },
 "nbformat": 4,
 "nbformat_minor": 5
}
