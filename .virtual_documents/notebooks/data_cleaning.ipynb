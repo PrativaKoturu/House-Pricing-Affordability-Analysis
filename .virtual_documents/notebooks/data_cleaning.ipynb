import pandas as pd
import os

# Load the dataset
data_file_path = os.path.join('..', 'data', 'house_prices_data.csv')
df = pd.read_csv(data_file_path)

# Check for missing values
print(df.isnull().sum())

# Fill missing values or drop rows as appropriate
df.fillna(df.mean(), inplace=True)

# Remove outliers (example: for 'price' column)
q1 = df['price'].quantile(0.25)
q3 = df['price'].quantile(0.75)
iqr = q3 - q1
df = df[(df['price'] >= q1 - 1.5 * iqr) & (df['price'] <= q3 + 1.5 * iqr)]

# Save the cleaned data to a new CSV file
df.to_csv(os.path.join('..', 'data', 'cleaned_house_prices_data.csv'), index=False)

print("Data cleaning complete.")




